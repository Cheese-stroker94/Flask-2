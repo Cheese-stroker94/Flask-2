{
 "cells": [
  {
   "cell_type": "code",
   "execution_count": null,
   "metadata": {},
   "outputs": [
    {
     "name": "stdout",
     "output_type": "stream",
     "text": [
      " * Serving Flask app '__main__'\n",
      " * Debug mode: off\n"
     ]
    },
    {
     "name": "stderr",
     "output_type": "stream",
     "text": [
      "WARNING: This is a development server. Do not use it in a production deployment. Use a production WSGI server instead.\n",
      " * Running on http://127.0.0.1:5000\n",
      "Press CTRL+C to quit\n",
      "127.0.0.1 - - [28/Nov/2024 21:56:05] \"GET / HTTP/1.1\" 200 -\n",
      "127.0.0.1 - - [28/Nov/2024 21:56:09] \"GET /login HTTP/1.1\" 200 -\n",
      "127.0.0.1 - - [28/Nov/2024 21:56:12] \"POST /login HTTP/1.1\" 302 -\n",
      "127.0.0.1 - - [28/Nov/2024 21:56:12] \"GET /user HTTP/1.1\" 200 -\n",
      "127.0.0.1 - - [28/Nov/2024 21:56:18] \"GET /logout HTTP/1.1\" 302 -\n",
      "127.0.0.1 - - [28/Nov/2024 21:56:18] \"GET /login HTTP/1.1\" 200 -\n"
     ]
    }
   ],
   "source": [
    "from flask import Flask, request, render_template, redirect, url_for,session, flash\n",
    "from datetime import datetime, timedelta\n",
    "\n",
    "app = Flask(__name__)\n",
    "app.secret_key = 'a'\n",
    "app.permanent_session_lifetime = timedelta(minutes=1)\n",
    "\n",
    "@app.route('/')\n",
    "def index():\n",
    "    return render_template('index.html')\n",
    "\n",
    "@app.route('/login', methods=['GET', 'POST'])\n",
    "def login():\n",
    "    if request.method=='POST':\n",
    "        session.permanent = True\n",
    "        user = request.form['nm']\n",
    "        session['user'] = user\n",
    "        flash(f'Login successful {user} !!', 'info')\n",
    "        return redirect(url_for('user'))\n",
    "    else:\n",
    "        if 'user' in session:\n",
    "            flash(f'Already logged in {user} !!', 'info')\n",
    "            return redirect(url_for('user'))\n",
    "        \n",
    "    return render_template('login.html')\n",
    "\n",
    "@app.route('/user')\n",
    "def user():\n",
    "    if 'user' in session:\n",
    "        user = session['user']\n",
    "        return render_template('user.html', user=user)\n",
    "    else:\n",
    "        flash(f'You are not logged in !!', 'info')\n",
    "   \n",
    "@app.route('/logout')   \n",
    "def logout():\n",
    "    flash(f'You have been logged out !!', 'info')\n",
    "    session.pop('user', None)\n",
    "    \n",
    "    return redirect(url_for('login'))\n",
    "\n",
    "\n",
    "        \n",
    "if __name__ == '__main__':\n",
    "    app.run(debug=False)\n",
    "\n"
   ]
  },
  {
   "cell_type": "code",
   "execution_count": null,
   "metadata": {},
   "outputs": [],
   "source": []
  },
  {
   "cell_type": "code",
   "execution_count": null,
   "metadata": {},
   "outputs": [],
   "source": []
  },
  {
   "cell_type": "code",
   "execution_count": null,
   "metadata": {},
   "outputs": [],
   "source": []
  },
  {
   "cell_type": "code",
   "execution_count": null,
   "metadata": {},
   "outputs": [],
   "source": []
  }
 ],
 "metadata": {
  "kernelspec": {
   "display_name": "Python 3",
   "language": "python",
   "name": "python3"
  },
  "language_info": {
   "codemirror_mode": {
    "name": "ipython",
    "version": 3
   },
   "file_extension": ".py",
   "mimetype": "text/x-python",
   "name": "python",
   "nbconvert_exporter": "python",
   "pygments_lexer": "ipython3",
   "version": "3.12.6"
  }
 },
 "nbformat": 4,
 "nbformat_minor": 2
}
